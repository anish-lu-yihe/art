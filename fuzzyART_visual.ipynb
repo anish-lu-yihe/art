{
 "cells": [
  {
   "cell_type": "code",
   "execution_count": 1,
   "id": "conscious-latino",
   "metadata": {},
   "outputs": [],
   "source": [
    "from fuzzy_art import *\n",
    "import sklearn.datasets as ds\n",
    "import sklearn.decomposition as dcp\n",
    "import matplotlib.pyplot as plt"
   ]
  },
  {
   "cell_type": "code",
   "execution_count": 2,
   "id": "raising-multimedia",
   "metadata": {},
   "outputs": [
    {
     "name": "stdout",
     "output_type": "stream",
     "text": [
      "(7, 8)\n"
     ]
    }
   ],
   "source": [
    "iris = ds.load_iris()\n",
    "data = iris['data'] / np.max(iris['data'], axis=0)\n",
    "net = FuzzyART(alpha=0.5, rho=0.75)\n",
    "net.train(data, epochs=100)\n",
    "print(net.w.shape)"
   ]
  },
  {
   "cell_type": "code",
   "execution_count": 3,
   "id": "freelance-terrorism",
   "metadata": {},
   "outputs": [
    {
     "name": "stdout",
     "output_type": "stream",
     "text": [
      "[0 0 0 0 0 0 0 0 0 0 0 0 0 0 0 0 0 0 0 0 0 0 0 0 0 0 0 0 0 0 0 0 0 0 0 0 0\n",
      " 0 0 0 0 0 0 0 0 0 0 0 0 0 1 1 1 1 1 1 1 1 1 1 1 1 1 1 1 1 1 1 1 1 1 1 1 1\n",
      " 1 1 1 1 1 1 1 1 1 1 1 1 1 1 1 1 1 1 1 1 1 1 1 1 1 1 2 2 2 2 2 2 2 2 2 2 2\n",
      " 2 2 2 2 2 2 2 2 2 2 2 2 2 2 2 2 2 2 2 2 2 2 2 2 2 2 2 2 2 2 2 2 2 2 2 2 2\n",
      " 2 2]\n",
      "[0 0 0 0 0 0 0 0 0 0 0 0 0 0 0 0 0 0 0 0 0 0 0 0 0 0 0 0 0 0 0 0 0 0 0 0 0\n",
      " 0 0 0 0 0 0 0 0 0 0 0 0 0 4 1 4 3 1 1 4 3 1 1 3 1 3 1 1 1 1 3 3 3 1 1 1 1\n",
      " 1 1 4 1 1 3 3 3 1 1 1 4 1 3 1 1 1 1 1 3 1 1 1 1 6 1 2 1 5 2 5 5 6 2 4 2 5\n",
      " 2 5 1 5 5 2 5 5 3 5 1 5 1 5 2 1 1 5 4 2 5 5 1 4 5 5 2 1 5 5 5 1 5 2 5 1 5\n",
      " 5 1]\n"
     ]
    }
   ],
   "source": [
    "label_true = iris['target']\n",
    "label_pred = net.test(data).astype(int)\n",
    "print(label_true)\n",
    "print(label_pred)"
   ]
  },
  {
   "cell_type": "code",
   "execution_count": 4,
   "id": "listed-implement",
   "metadata": {},
   "outputs": [
    {
     "name": "stdout",
     "output_type": "stream",
     "text": [
      "[0.92138578 0.05142129]\n",
      "[4.9602239  1.17179601]\n"
     ]
    }
   ],
   "source": [
    "pca = dcp.PCA(n_components=2)\n",
    "pca_xy = pca.fit_transform(data)\n",
    "print(pca.explained_variance_ratio_)\n",
    "print(pca.singular_values_)"
   ]
  },
  {
   "cell_type": "code",
   "execution_count": 5,
   "id": "broken-burton",
   "metadata": {},
   "outputs": [
    {
     "data": {
      "image/png": "[encoded data removed]",
      "text/plain": [
       "<Figure size 432x288 with 2 Axes>"
      ]
     },
     "metadata": {
      "needs_background": "light"
     },
     "output_type": "display_data"
    }
   ],
   "source": [
    "fig, ax = plt.subplots(1, 2)\n",
    "for cat_true in range(3):\n",
    "    ax[0].scatter(*np.where(label_true == cat_true, pca_xy.T, None))\n",
    "for cat_pred in range(net.w.shape[0]):\n",
    "    ax[1].scatter(*np.where(label_pred == cat_pred, pca_xy.T, None))"
   ]
  },
  {
   "cell_type": "code",
   "execution_count": null,
   "id": "stopped-pharmacology",
   "metadata": {},
   "outputs": [],
   "source": []
  }
 ],
 "metadata": {
  "kernelspec": {
   "display_name": "Python 3",
   "language": "python",
   "name": "python3"
  },
  "language_info": {
   "codemirror_mode": {
    "name": "ipython",
    "version": 3
   },
   "file_extension": ".py",
   "mimetype": "text/x-python",
   "name": "python",
   "nbconvert_exporter": "python",
   "pygments_lexer": "ipython3",
   "version": "3.7.9"
  }
 },
 "nbformat": 4,
 "nbformat_minor": 5
}
